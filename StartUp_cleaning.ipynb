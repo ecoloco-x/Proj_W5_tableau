{
 "cells": [
  {
   "cell_type": "code",
   "execution_count": 14,
   "metadata": {},
   "outputs": [],
   "source": [
    "import pandas as pd\n",
    "import numpy as np"
   ]
  },
  {
   "cell_type": "code",
   "execution_count": 15,
   "metadata": {},
   "outputs": [],
   "source": [
    "df = pd.read_csv(\"start_up_raw.csv\")\n",
    "df.head(20)\n",
    "pd.set_option('display.max_rows',1111)"
   ]
  },
  {
   "cell_type": "code",
   "execution_count": 18,
   "metadata": {},
   "outputs": [
    {
     "data": {
      "text/html": [
       "<div>\n",
       "<style scoped>\n",
       "    .dataframe tbody tr th:only-of-type {\n",
       "        vertical-align: middle;\n",
       "    }\n",
       "\n",
       "    .dataframe tbody tr th {\n",
       "        vertical-align: top;\n",
       "    }\n",
       "\n",
       "    .dataframe thead th {\n",
       "        text-align: right;\n",
       "    }\n",
       "</style>\n",
       "<table border=\"1\" class=\"dataframe\">\n",
       "  <thead>\n",
       "    <tr style=\"text-align: right;\">\n",
       "      <th></th>\n",
       "      <th>permalink</th>\n",
       "      <th>name</th>\n",
       "      <th>homepage_url</th>\n",
       "      <th>category_list</th>\n",
       "      <th>funding_total_usd</th>\n",
       "      <th>status</th>\n",
       "      <th>country_code</th>\n",
       "      <th>state_code</th>\n",
       "      <th>region</th>\n",
       "      <th>city</th>\n",
       "      <th>funding_rounds</th>\n",
       "      <th>founded_at</th>\n",
       "      <th>first_funding_at</th>\n",
       "      <th>last_funding_at</th>\n",
       "    </tr>\n",
       "  </thead>\n",
       "  <tbody>\n",
       "  </tbody>\n",
       "</table>\n",
       "</div>"
      ],
      "text/plain": [
       "Empty DataFrame\n",
       "Columns: [permalink, name, homepage_url, category_list, funding_total_usd, status, country_code, state_code, region, city, funding_rounds, founded_at, first_funding_at, last_funding_at]\n",
       "Index: []"
      ]
     },
     "execution_count": 18,
     "metadata": {},
     "output_type": "execute_result"
    }
   ],
   "source": [
    "# we remove rows thats missing funding amount\n",
    "df = df[df['funding_total_usd'] != \"-\"]\n",
    "\n",
    "# remove wrong rows\n",
    "df=df[df['founded_at']<=df['first_funding_at']]\n",
    "\n",
    "# there're rows without fouded_at date\n",
    "# check if there's data on 1900-01-01 so we can save the datapoints and filter out later if timeline analysis needed\n",
    "df[df['founded_at']=='1900-01-01']"
   ]
  },
  {
   "cell_type": "code",
   "execution_count": 19,
   "metadata": {},
   "outputs": [],
   "source": [
    "\n",
    "\n",
    "# we fill missing foundation date with 1900 to filter them out later\n",
    "df['founded_at'].fillna('1900-1-1', inplace=True)"
   ]
  },
  {
   "cell_type": "code",
   "execution_count": 20,
   "metadata": {},
   "outputs": [
    {
     "name": "stdout",
     "output_type": "stream",
     "text": [
      "<class 'pandas.core.frame.DataFrame'>\n",
      "Int64Index: 38954 entries, 3 to 66366\n",
      "Data columns (total 14 columns):\n",
      " #   Column             Non-Null Count  Dtype \n",
      "---  ------             --------------  ----- \n",
      " 0   permalink          38954 non-null  object\n",
      " 1   name               38953 non-null  object\n",
      " 2   homepage_url       37348 non-null  object\n",
      " 3   category_list      38606 non-null  object\n",
      " 4   funding_total_usd  38954 non-null  object\n",
      " 5   status             38954 non-null  object\n",
      " 6   country_code       36631 non-null  object\n",
      " 7   state_code         35831 non-null  object\n",
      " 8   region             36150 non-null  object\n",
      " 9   city               36151 non-null  object\n",
      " 10  funding_rounds     38954 non-null  int64 \n",
      " 11  founded_at         38954 non-null  object\n",
      " 12  first_funding_at   38954 non-null  object\n",
      " 13  last_funding_at    38954 non-null  object\n",
      "dtypes: int64(1), object(13)\n",
      "memory usage: 4.5+ MB\n"
     ]
    }
   ],
   "source": [
    "df.info()"
   ]
  },
  {
   "cell_type": "code",
   "execution_count": 21,
   "metadata": {},
   "outputs": [
    {
     "name": "stdout",
     "output_type": "stream",
     "text": [
      "<class 'pandas.core.frame.DataFrame'>\n",
      "RangeIndex: 34072 entries, 0 to 34071\n",
      "Data columns (total 15 columns):\n",
      " #   Column             Non-Null Count  Dtype \n",
      "---  ------             --------------  ----- \n",
      " 0   index              34072 non-null  int64 \n",
      " 1   permalink          34072 non-null  object\n",
      " 2   name               34072 non-null  object\n",
      " 3   homepage_url       34072 non-null  object\n",
      " 4   category_list      34072 non-null  object\n",
      " 5   funding_total_usd  34072 non-null  object\n",
      " 6   status             34072 non-null  object\n",
      " 7   country_code       34072 non-null  object\n",
      " 8   state_code         34072 non-null  object\n",
      " 9   region             34072 non-null  object\n",
      " 10  city               34072 non-null  object\n",
      " 11  funding_rounds     34072 non-null  int64 \n",
      " 12  founded_at         34072 non-null  object\n",
      " 13  first_funding_at   34072 non-null  object\n",
      " 14  last_funding_at    34072 non-null  object\n",
      "dtypes: int64(2), object(13)\n",
      "memory usage: 3.9+ MB\n"
     ]
    }
   ],
   "source": [
    "# we drop the null rows and reset the index\n",
    "df = df.dropna().reset_index()\n",
    "\n",
    "df.info() # after cleaning we have 44618 rows"
   ]
  },
  {
   "cell_type": "code",
   "execution_count": 22,
   "metadata": {},
   "outputs": [],
   "source": [
    "##### treat category######\n",
    "\n",
    "# there are many category tags, we only take 4 of them\n",
    "df[['category','sub_category_1','sub_category_2','sub_category_3']] = df['category_list'].str.split('|', 3, expand=True)\n",
    "\n",
    "# make a copy of categoty\n",
    "df['label'] = df['category']\n",
    "\n",
    "### group categories to labels\n",
    "df.loc[df['category'].astype(str).str.contains('Software|developer|saas|search', case = False),'label'] = 'Software'\n",
    "df.loc[df['category'].astype(str).str.contains('Ecommerce|E-comm|E-com|e-book|online|b2b', case=False), 'label'] = 'E-commerce'\n",
    "df.loc[df['category'].astype(str).str.contains('Web|Website|cyber|browser|internet', case=False), 'label'] = 'Web'\n",
    "df.loc[df['category'].astype(str).str.contains('Mobile|Android|ipad|iphone|Messaging|Chat|android', case=False),'label'] = 'Mobile'\n",
    "df.loc[df['category'].astype(str).str.contains('Analytics|Analytic|Analysing|Analytical|consulting|business', case=False),'label'] = 'Business Analytics'\n",
    "df.loc[df['category'].astype(str).str.contains('App|Apps|Applications|Application', case=False),'label'] = 'Apps'\n",
    "df.loc[df['category'].astype(str).str.contains('Health|Medical|Medicine|Fitness|Pharm|clinical|doctor|dental|Diagnostic|hospital', case=False),'label'] = 'Health'\n",
    "df.loc[df['category'].astype(str).str.contains('Clean|Green|Renewable|Energy|environment|gas', case=False),'label'] = 'Energy'\n",
    "df.loc[df['category'].astype(str).str.contains('Games|Game|Gaming', case=False),'label'] = 'Games'\n",
    "df.loc[df['category'].astype(str).str.contains('Finance|Financial|Financing|Accounting|Investment|Credit|Banking|crowd|fintech|payment|insurance|billing|trading', case=False),'label'] = 'Finance'\n",
    "df.loc[df['category'].astype(str).str.contains('Education|Educational|Edtech|colleges', case=False),'label'] = 'Education'\n",
    "df.loc[df['category'].astype(str).str.contains('Hotel|Hospitablity | Resort', case=False),'label'] = 'Hospitality'\n",
    "df.loc[df['category'].astype(str).str.contains('Realtor|Real|property', case=False),'label'] = 'Real Estate'\n",
    "df.loc[df['category'].astype(str).str.contains('Social Media|media|music|news|content|journal|audio|broadcasting|blogging', case=False),'label'] = 'Media/Content'\n",
    "df.loc[df['category'].astype(str).str.contains('marketing|branding|Advertising|Ads|Adtech|market|ad targeting', case=False),'label'] = 'Marketing'\n",
    "df.loc[df['category'].astype(str).str.contains('Cars|Automotive|Vehicle|Bus', case=False),'label'] = 'Automotive'\n",
    "df.loc[df['category'].astype(str).str.contains('semiconductor', case=False),'label'] = 'Semiconductor'\n",
    "df.loc[df['category'].astype(str).str.contains('aerospace|astro|drone', case=False),'label'] = 'Aerospace'\n",
    "df.loc[df['category'].astype(str).str.contains('chemic', case=False),'label'] = 'Chemicals'\n",
    "df.loc[df['category'].astype(str).str.contains('manufac', case=False),'label'] = 'Manufacturing'\n",
    "df.loc[df['category'].astype(str).str.contains('lifestyle|diy|home renovation|photo|cosmetics', case=False),'label'] = 'Lifestyle'\n",
    "df.loc[df['category'].astype(str).str.contains('transport', case=False),'label'] = 'Transportation'\n",
    "df.loc[df['category'].astype(str).str.contains('legal|law', case=False),'label'] = 'Legal'\n",
    "df.loc[df['category'].astype(str).str.contains('logistics|delivery', case=False),'label'] = 'Logistics'\n",
    "df.loc[df['category'].astype(str).str.contains('agri', case=False),'label'] = 'Agriculture'\n",
    "df.loc[df['category'].astype(str).str.contains('Consumer|retail|babies|pets|coupons|food|coffee|beer|groceries', case=False),'label'] = 'Consumers'\n",
    "df.loc[df['category'].astype(str).str.contains('Enterprise|Entrepreneur|corporate|document|human resource|nonprofit|career|employ|crm|recruit|email|collaboration', case=False),'label'] = 'Enterprise'\n",
    "df.loc[df['category'].astype(str).str.contains('Technology|bid data|data|hardware|cloud|artificial intel|tech|3D|electronic|bitcoin|automation|algorithms|machine learning|robot', case=False),'label'] = 'Technology'\n",
    "df.loc[df['category'].astype(str).str.contains('fashion|concerts|design|art|beauty|tourism|sports|restaurant|leisure|travel|cooking|film|entertain|video', case=False),'label'] = 'Leisure'\n",
    "\n",
    "# those cant group go to others\n",
    "list = ['Software','E-commerce','Web', 'Mobile', 'Business Analytics','Transportation','Apps','Health','Energy','Games','Finance','Education','Hospitality','Real Estate','Media/Content','Manufacturing', 'Chemicals','Semiconductor', 'Aerospace','Marketing','Automotive','Consumers', 'Agriculture','Logistics', 'Legal','Enterprise', 'Technology','Leisure','Lifestyle']\n",
    "df.loc[~df['label'].astype(str).isin(list),'label']='Others'\n"
   ]
  },
  {
   "cell_type": "code",
   "execution_count": 23,
   "metadata": {},
   "outputs": [
    {
     "data": {
      "text/html": [
       "<div>\n",
       "<style scoped>\n",
       "    .dataframe tbody tr th:only-of-type {\n",
       "        vertical-align: middle;\n",
       "    }\n",
       "\n",
       "    .dataframe tbody tr th {\n",
       "        vertical-align: top;\n",
       "    }\n",
       "\n",
       "    .dataframe thead th {\n",
       "        text-align: right;\n",
       "    }\n",
       "</style>\n",
       "<table border=\"1\" class=\"dataframe\">\n",
       "  <thead>\n",
       "    <tr style=\"text-align: right;\">\n",
       "      <th></th>\n",
       "      <th>index</th>\n",
       "      <th>permalink</th>\n",
       "      <th>name</th>\n",
       "      <th>homepage_url</th>\n",
       "      <th>category_list</th>\n",
       "      <th>funding_total_usd</th>\n",
       "      <th>status</th>\n",
       "      <th>country_code</th>\n",
       "      <th>state_code</th>\n",
       "      <th>region</th>\n",
       "      <th>...</th>\n",
       "      <th>funding_rounds</th>\n",
       "      <th>founded_at</th>\n",
       "      <th>first_funding_at</th>\n",
       "      <th>last_funding_at</th>\n",
       "      <th>category</th>\n",
       "      <th>sub_category_1</th>\n",
       "      <th>sub_category_2</th>\n",
       "      <th>sub_category_3</th>\n",
       "      <th>label</th>\n",
       "      <th>industry</th>\n",
       "    </tr>\n",
       "  </thead>\n",
       "  <tbody>\n",
       "  </tbody>\n",
       "</table>\n",
       "<p>0 rows × 21 columns</p>\n",
       "</div>"
      ],
      "text/plain": [
       "Empty DataFrame\n",
       "Columns: [index, permalink, name, homepage_url, category_list, funding_total_usd, status, country_code, state_code, region, city, funding_rounds, founded_at, first_funding_at, last_funding_at, category, sub_category_1, sub_category_2, sub_category_3, label, industry]\n",
       "Index: []\n",
       "\n",
       "[0 rows x 21 columns]"
      ]
     },
     "execution_count": 23,
     "metadata": {},
     "output_type": "execute_result"
    }
   ],
   "source": [
    "# group labels into industries\n",
    "df.loc[df['label'].astype(str).str.contains('transportation|logistics|legal|agriculture|communities|public relation|energy|security|health|education', case=False),'industry'] = 'Public'\n",
    "df.loc[df['label'].astype(str).str.contains('manufacture|aerospace|manufacturing|chemicals|semiconductor|automotive', case=False),'industry'] = 'Manufacture'\n",
    "df.loc[df['label'].astype(str).str.contains('software|apps|web|technology|mobile|e-commerce', case=False),'industry'] = 'Tech'\n",
    "df.loc[df['label'].astype(str).str.contains('finance|business|entreprice|enterprise', case=False),'industry'] = 'Finance/Business'\n",
    "df.loc[df['label'].astype(str).str.contains('marketing|media|communication', case=False),'industry'] = 'Communication'\n",
    "df.loc[df['label'].astype(str).str.contains('leisure|game|lifestyle|consumer', case=False),'industry'] = 'Lifestyles'\n",
    "df.loc[df['label'].astype(str).str.contains('hospitality|real estate', case=False),'industry'] = 'Real Estate'\n",
    "df.loc[df['label'].astype(str).str.contains('others', case=False),'industry'] = 'Others'\n",
    "\n",
    "# check if there's rows uncategorized\n",
    "df[df['industry'].isnull()]"
   ]
  },
  {
   "cell_type": "code",
   "execution_count": 13,
   "metadata": {},
   "outputs": [],
   "source": [
    "# pick relevant cols\n",
    "df_final = df[['name', 'funding_total_usd', 'status', 'country_code', 'state_code', 'region',\n",
    "       'city', 'funding_rounds', 'founded_at', 'first_funding_at',\n",
    "       'last_funding_at', 'category', 'label', 'industry']]\n",
    "\n",
    "# export to csv\n",
    "df_final.to_csv('startup_clean.csv')"
   ]
  },
  {
   "cell_type": "code",
   "execution_count": null,
   "metadata": {},
   "outputs": [],
   "source": []
  }
 ],
 "metadata": {
  "kernelspec": {
   "display_name": "Python 3 (ipykernel)",
   "language": "python",
   "name": "python3"
  },
  "language_info": {
   "codemirror_mode": {
    "name": "ipython",
    "version": 3
   },
   "file_extension": ".py",
   "mimetype": "text/x-python",
   "name": "python",
   "nbconvert_exporter": "python",
   "pygments_lexer": "ipython3",
   "version": "3.9.13"
  },
  "vscode": {
   "interpreter": {
    "hash": "096d13a557f1eefbcff4e46a0332d49d83cfff748d823998326338428f68fa0f"
   }
  }
 },
 "nbformat": 4,
 "nbformat_minor": 2
}
